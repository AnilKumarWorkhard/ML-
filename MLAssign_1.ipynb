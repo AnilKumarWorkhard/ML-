{
  "nbformat": 4,
  "nbformat_minor": 0,
  "metadata": {
    "colab": {
      "provenance": []
    },
    "kernelspec": {
      "name": "python3",
      "display_name": "Python 3"
    },
    "language_info": {
      "name": "python"
    }
  },
  "cells": [
    {
      "cell_type": "code",
      "execution_count": null,
      "metadata": {
        "colab": {
          "base_uri": "https://localhost:8080/"
        },
        "id": "9y9bFvQB-sz7",
        "outputId": "0207a59a-c700-439f-c3b3-35a1a9f1da77"
      },
      "outputs": [
        {
          "output_type": "stream",
          "name": "stdout",
          "text": [
            "Reversed array [5 4 6 3 2 1]\n"
          ]
        }
      ],
      "source": [
        "import numpy as np\n",
        "arr = np.array([1, 2, 3, 6, 4, 5])\n",
        "rev = np.flip(arr)\n",
        "\n",
        "print (\"Reversed array\" , str(rev))"
      ]
    },
    {
      "cell_type": "code",
      "source": [
        "import numpy as np\n",
        "arr = np.array([[1, 2, 3], [2, 4, 5], [1, 2, 3]])\n",
        "flatten1 = arr.flatten()                            #flattens row wise\n",
        "\n",
        "print (\"Flattened array \" , flatten1)"
      ],
      "metadata": {
        "colab": {
          "base_uri": "https://localhost:8080/"
        },
        "id": "iTJPQAh6-3x8",
        "outputId": "d712aed2-0779-4080-b88b-7f09c651df45"
      },
      "execution_count": null,
      "outputs": [
        {
          "output_type": "stream",
          "name": "stdout",
          "text": [
            "Flattened array  [1 2 3 2 4 5 1 2 3]\n"
          ]
        }
      ]
    },
    {
      "cell_type": "code",
      "source": [
        "import numpy as np\n",
        "arr = np.array([[1, 2, 3], [2, 4, 5], [1, 2, 3]])\n",
        "flatten2 = arr.flatten('F')                           #flattens column wise\n",
        "\n",
        "print (\"Flattened array \" , flatten2)"
      ],
      "metadata": {
        "colab": {
          "base_uri": "https://localhost:8080/"
        },
        "id": "-0epbFLoAvrJ",
        "outputId": "7002ac66-326d-4539-bd1e-21470ccc87b9"
      },
      "execution_count": null,
      "outputs": [
        {
          "output_type": "stream",
          "name": "stdout",
          "text": [
            "Flattened array  [1 2 1 2 4 2 3 5 3]\n"
          ]
        }
      ]
    },
    {
      "cell_type": "code",
      "source": [
        "import numpy as np\n",
        "arr1 = np.array([[1, 2], [3, 4]])\n",
        "arr2 = np.array([[1, 2], [3, 4]])\n",
        "\n",
        "comparison = arr1==arr2\n",
        "equal_arr = comparison.all()\n",
        "print (equal_arr)\n"
      ],
      "metadata": {
        "colab": {
          "base_uri": "https://localhost:8080/"
        },
        "id": "E2O4wTixBAQQ",
        "outputId": "2d3441e7-f93d-41d2-f19e-f147ae97294a"
      },
      "execution_count": null,
      "outputs": [
        {
          "output_type": "stream",
          "name": "stdout",
          "text": [
            "True\n",
            "True\n"
          ]
        }
      ]
    },
    {
      "cell_type": "code",
      "source": [
        "import numpy as np\n",
        "x = np.array([1,2,3,4,5,1,2,1,1,1])\n",
        "y = np.array([1, 1, 1, 2, 3, 4, 2, 4, 3, 3, ])\n",
        "\n",
        "print (\"Array 1 = \" , x)\n",
        "print (\"Most common value and its index :\")\n",
        "common = np.bincount(x).argmax()\n",
        "print(common)\n",
        "for j in range (len(x)):\n",
        "  if x[j]==common:\n",
        "    print(j , end=\" \")\n",
        "\n",
        "print (\"\\nArray 2 = \" , y)\n",
        "print (\"Most common value and its index :\")\n",
        "a = np.bincount(y)\n",
        "maximum = max(a)\n",
        "\n",
        "for i in range(len(a)):\n",
        "    if a[i] == maximum:\n",
        "        print(\"\\n\",i,\" :\" ,end=\" \",)\n",
        "        for j in range(len(y)):\n",
        "          if y[j]==i:\n",
        "            print (j , end=\" \")\n",
        "\n",
        "\n"
      ],
      "metadata": {
        "colab": {
          "base_uri": "https://localhost:8080/"
        },
        "id": "jvLJVRNxB8lx",
        "outputId": "c22ee92b-3e56-4861-82fd-b6e58d25e27f"
      },
      "execution_count": null,
      "outputs": [
        {
          "output_type": "stream",
          "name": "stdout",
          "text": [
            "Array 1 =  [1 2 3 4 5 1 2 1 1 1]\n",
            "Most common value and its index :\n",
            "1\n",
            "0 5 7 8 9 \n",
            "Array 2 =  [1 1 1 2 3 4 2 4 3 3]\n",
            "Most common value and its index :\n",
            "\n",
            " 1  : 0 1 2 \n",
            " 3  : 4 8 9 "
          ]
        }
      ]
    },
    {
      "cell_type": "code",
      "source": [
        "import numpy as np\n",
        "gfg = np.matrix('[4, 1, 9; 12, 3, 1; 4, 5, 6]')\n",
        "\n",
        "print (\"Sum of elements of array : \" , np.sum(gfg))                             #numpy.sum(arr, axis, dtype, out) ---> Syntax\n",
        "print (\"Sum of elements of array row wise : \" , np.sum(gfg,1))                 #axis = 1 : along row\n",
        "print (\"Sum of elements of array column wise : \" , np.sum(gfg,0))                           #axi =  2 : along column"
      ],
      "metadata": {
        "colab": {
          "base_uri": "https://localhost:8080/"
        },
        "id": "vSBkUXy7F9VM",
        "outputId": "3c266e32-58e7-4a12-80bc-193a0f0a6799"
      },
      "execution_count": null,
      "outputs": [
        {
          "output_type": "stream",
          "name": "stdout",
          "text": [
            "Sum of elements of array :  45\n",
            "Sum of elements of array row wise :  [[14]\n",
            " [16]\n",
            " [15]]\n",
            "Sum of elements of array column wise :  [[20  9 16]]\n"
          ]
        }
      ]
    },
    {
      "cell_type": "code",
      "source": [
        "import numpy as np\n",
        "n_array = np.array([[55, 25, 15],[30, 44, 2],[11, 45, 77]])\n",
        "\n",
        "trace = np.trace(n_array)                                              # Automatically sums all trace elements\n",
        "print(n_array)\n",
        "print(\"Sum of diagonal elements : \",trace)\n",
        "\n",
        "value , vector = np.linalg.eig(n_array)                                 #Eigen values and vector\n",
        "print(\"\\nPrinting the Eigen values of the given array:\\n\", value)\n",
        "print(\"\\nPrinting the Eigen vector of the given array:\\n\", vector)\n",
        "\n",
        "print (\"\\nInverse of the matrix : \")                                     #Inverse of matrix\n",
        "print (np.linalg.inv(n_array))\n",
        "\n",
        "print (\"\\nDeterminant of the matrix : \")                                 #Determinant of matrix\n",
        "print (np.linalg.det(n_array))\n",
        "\n"
      ],
      "metadata": {
        "colab": {
          "base_uri": "https://localhost:8080/"
        },
        "id": "jgKJcYwEJt0n",
        "outputId": "b001726d-e76c-4f23-b137-dae9b2ecac74"
      },
      "execution_count": null,
      "outputs": [
        {
          "output_type": "stream",
          "name": "stdout",
          "text": [
            "[[55 25 15]\n",
            " [30 44  2]\n",
            " [11 45 77]]\n",
            "Sum of diagonal elements :  176\n",
            "\n",
            "Printing the Eigen values of the given array:\n",
            " [98.16835147 28.097044   49.73460452]\n",
            "\n",
            "Printing the Eigen vector of the given array:\n",
            " [[ 0.4574917   0.34637121 -0.15017693]\n",
            " [ 0.28447814 -0.72784061 -0.4852124 ]\n",
            " [ 0.84248058  0.59184038  0.8614034 ]]\n",
            "\n",
            "Inverse of the matrix : \n",
            "[[ 0.02404141 -0.00911212 -0.00444671]\n",
            " [-0.01667882  0.02966905  0.0024785 ]\n",
            " [ 0.00631287 -0.01603732  0.01217379]]\n",
            "\n",
            "Determinant of the matrix : \n",
            "137180.0000000001\n"
          ]
        }
      ]
    },
    {
      "cell_type": "code",
      "source": [
        "import numpy as np\n",
        "p = np.array([[1, 2], [2, 3]])\n",
        "q = np.array([[4, 5], [6, 7]])\n",
        "\n",
        "res = [[0 for x in range(3)] for y in range(3)]                   # Initialize matrix = 0\n",
        "\n",
        "for i in range(len(p)):\n",
        "    for j in range(len(q[0])):\n",
        "        for k in range(len(q)):\n",
        "\n",
        "            res[i][j] += p[i][k] * q[k][j]\n",
        "\n",
        "print (res)\n",
        "\n",
        "print (\"Covariance between matrices :\")\n",
        "print(np.cov(p,q))"
      ],
      "metadata": {
        "colab": {
          "base_uri": "https://localhost:8080/"
        },
        "id": "JQm8U3Q2NR6D",
        "outputId": "82b44bf5-b11b-417f-826b-9a4468cf8d33"
      },
      "execution_count": null,
      "outputs": [
        {
          "output_type": "stream",
          "name": "stdout",
          "text": [
            "[[16, 19, 0], [26, 31, 0], [0, 0, 0]]\n",
            "Covariance between matrices :\n",
            "[[0.5 0.5 0.5 0.5]\n",
            " [0.5 0.5 0.5 0.5]\n",
            " [0.5 0.5 0.5 0.5]\n",
            " [0.5 0.5 0.5 0.5]]\n"
          ]
        }
      ]
    },
    {
      "cell_type": "code",
      "source": [
        "import numpy as np\n",
        "p1 = np.array([[1, 2], [2, 3], [4, 5]])\n",
        "q1 = np.array([[4, 5, 1], [6, 7, 2]])\n",
        "\n",
        "res = [[0 for x in range(3)] for y in range(3)]                   # Initialize matrix = 0\n",
        "\n",
        "for i in range(len(p1)):\n",
        "    for j in range(len(q1[0])):\n",
        "        for k in range(len(q1)):\n",
        "\n",
        "            res[i][j] += p1[i][k] * q1[k][j]\n",
        "\n",
        "print (res)\n",
        "\n",
        "#print (\"Covariance between matrices :\")\n",
        "#print(np.cov(p1,q1))                                             #--> Error...no covariance"
      ],
      "metadata": {
        "colab": {
          "base_uri": "https://localhost:8080/"
        },
        "id": "Y5eFWvyChjx2",
        "outputId": "de8af1db-dfe8-4f5d-c654-5cce79afa92a"
      },
      "execution_count": null,
      "outputs": [
        {
          "output_type": "stream",
          "name": "stdout",
          "text": [
            "[[16, 19, 5], [26, 31, 8], [46, 55, 14]]\n",
            "Covariance between matrices :\n"
          ]
        }
      ]
    },
    {
      "cell_type": "code",
      "source": [
        "import numpy as np\n",
        "x = np.array([[2, 3, 4], [3, 2, 9]])\n",
        "y = np.array([[1, 5, 0], [5, 10, 3]])\n",
        "\n",
        "print(\"Inner product of vectors =\")\n",
        "print(np.inner(x, y))\n",
        "\n",
        "print(\"Outer product of vectors =\")\n",
        "print(np.outer(x, y))\n",
        "\n",
        "print(\"Cross/cartesian product of vectors =\")\n",
        "print(np.cross(x, y))"
      ],
      "metadata": {
        "colab": {
          "base_uri": "https://localhost:8080/"
        },
        "id": "ULf6s1eXirDa",
        "outputId": "d7a324a2-dba4-43e3-fb96-8fc21e5536cd"
      },
      "execution_count": null,
      "outputs": [
        {
          "output_type": "stream",
          "name": "stdout",
          "text": [
            "Inner product of vectors =\n",
            "[[17 52]\n",
            " [13 62]]\n",
            "Outer product of vectors =\n",
            "[[ 2 10  0 10 20  6]\n",
            " [ 3 15  0 15 30  9]\n",
            " [ 4 20  0 20 40 12]\n",
            " [ 3 15  0 15 30  9]\n",
            " [ 2 10  0 10 20  6]\n",
            " [ 9 45  0 45 90 27]]\n",
            "Cross/cartesian product of vectors =\n",
            "[[-20   4   7]\n",
            " [-84  36  20]]\n"
          ]
        }
      ]
    },
    {
      "cell_type": "code",
      "source": [
        "import numpy as np\n",
        "array = np.array([[1, -2, 3],[-4, 5, -6]])\n",
        "\n",
        "print(\"Absolute value\",np.absolute(array))\n",
        "\n",
        "print(\"Flattened array with 50 percentile\" , np.percentile(array, 50))\n",
        "print (\"For each column with 25 percentile\" , np.percentile(array, 25, axis=0))\n",
        "print (\"For each row with 75 percentile\" , np.percentile(array, 75, axis=1))\n",
        "\n",
        "\n",
        "flattened_array = array.flatten()\n",
        "\n",
        "print(\"\\nFlattened Mean\",np.mean(flattened_array))                                    # Mean, median, and standard deviation of the flattened array\n",
        "print(\"Flattened Median\",np.median(flattened_array))\n",
        "print(\"Flattened Std Deviation\" ,np.std(flattened_array))\n",
        "\n",
        "print(\"\\nMean for each column\",np.mean(array, axis=0))                                 # Mean, median, and standard deviation of each column\n",
        "print(\"Median for each column\",np.median(array, axis=0))\n",
        "print(\"Std Deviation for each column\",np.std(array, axis=0))\n",
        "\n",
        "print(\"\\nMean for each row\",np.mean(array, axis=1))                   # Mean, median, and standard deviation of each row\n",
        "print(\"Median for each row\",np.median(array, axis=1))\n",
        "print(\"Std Deviation for each row\",np.std(array, axis=1))\n",
        "\n",
        "\n"
      ],
      "metadata": {
        "colab": {
          "base_uri": "https://localhost:8080/"
        },
        "id": "43twqq8UjdP-",
        "outputId": "db2e2976-151e-49c9-8876-e7397ff6612f"
      },
      "execution_count": null,
      "outputs": [
        {
          "output_type": "stream",
          "name": "stdout",
          "text": [
            "Absolute value [[1 2 3]\n",
            " [4 5 6]]\n",
            "Flattened array with 50 percentile -0.5\n",
            "For each column with 25 percentile [-2.75 -0.25 -3.75]\n",
            "For each row with 75 percentile [2.  0.5]\n",
            "\n",
            "Flattened Mean -0.5\n",
            "Flattened Median -0.5\n",
            "Flattened Std Deviation 3.8622100754188224\n",
            "\n",
            "Mean for each column [-1.5  1.5 -1.5]\n",
            "Median for each column [-1.5  1.5 -1.5]\n",
            "Std Deviation for each column [2.5 3.5 4.5]\n",
            "\n",
            "Mean for each row [ 0.66666667 -1.66666667]\n",
            "Median for each row [ 1. -4.]\n",
            "Std Deviation for each row [2.05480467 4.78423336]\n"
          ]
        }
      ]
    },
    {
      "cell_type": "code",
      "source": [
        "import numpy as np\n",
        "a = np.array([-1.8, -1.6, -0.5, 0.5,1.6, 1.8, 3.0])\n",
        "\n",
        "print (\"Floor values : \" , np.floor(a))\n",
        "print (\"Ceiling values : \" , np.ceil(a))\n",
        "print (\"Truncate values : \" , np.trunc(a))\n",
        "print (\"Round values : \" , np.around(a))\n"
      ],
      "metadata": {
        "colab": {
          "base_uri": "https://localhost:8080/"
        },
        "id": "hUTs_hrpkuio",
        "outputId": "9066b1ae-3c77-4364-c57f-b4357784bcc8"
      },
      "execution_count": null,
      "outputs": [
        {
          "output_type": "stream",
          "name": "stdout",
          "text": [
            "Floor values :  [-2. -2. -1.  0.  1.  1.  3.]\n",
            "Ceiling values :  [-1. -1. -0.  1.  2.  2.  3.]\n",
            "Truncate values :  [-1. -1. -0.  0.  1.  1.  3.]\n",
            "Round values :  [-2. -2. -0.  0.  2.  2.  3.]\n"
          ]
        }
      ]
    },
    {
      "cell_type": "code",
      "source": [
        "import numpy as np\n",
        "array = np.array([10, 52, 62, 16, 16, 54, 453])\n",
        "arr =np.sort(array)\n",
        "print (arr)\n",
        "for i in range (len(arr)):\n",
        "  for j in range (len(array)):\n",
        "    if arr[i]==array[j]:\n",
        "      print (j, end = \" \")\n",
        "\n",
        "print (\"\\n4 smallest elements : \")\n",
        "print (arr[:4])\n",
        "\n",
        "print (\"\\n5 largest elements : \")\n",
        "print (arr[len(arr)-5:])"
      ],
      "metadata": {
        "colab": {
          "base_uri": "https://localhost:8080/"
        },
        "id": "93aYoyhToTZ7",
        "outputId": "33ff920b-8d5c-4da3-d5e5-4be68d945c99"
      },
      "execution_count": null,
      "outputs": [
        {
          "output_type": "stream",
          "name": "stdout",
          "text": [
            "[ 10  16  16  52  54  62 453]\n",
            "0 3 4 3 4 1 5 2 6 \n",
            "4 smallest elements : \n",
            "[10 16 16 52]\n",
            "\n",
            "5 largest elements : \n",
            "[ 16  52  54  62 453]\n"
          ]
        }
      ]
    },
    {
      "cell_type": "code",
      "source": [
        "import numpy as np\n",
        "array = np.array([1.0, 1.2, 2.2, 2.0, 3.0, 2.0])\n",
        "\n",
        "result = array[~np.equal(np.mod(array, 1), 0)]\n",
        "print (\"Float array : \", str(result))\n",
        "\n",
        "integer = array==array.astype(int)\n",
        "elements = array[integer]\n",
        "print(\"\\n Integer array\",elements)"
      ],
      "metadata": {
        "colab": {
          "base_uri": "https://localhost:8080/"
        },
        "id": "zs7MbWwZqX8Z",
        "outputId": "8f472c94-716d-4036-b89f-07beb37368f8"
      },
      "execution_count": null,
      "outputs": [
        {
          "output_type": "stream",
          "name": "stdout",
          "text": [
            "Float array :  [1.2 2.2]\n",
            "\n",
            " Integer array [1. 2. 3. 2.]\n"
          ]
        }
      ]
    },
    {
      "cell_type": "code",
      "source": [
        "import numpy as np\n",
        "from PIL import Image\n",
        "\n",
        "def img_to_array(path):\n",
        "  img = Image.open(path)                                #open the image\n",
        "\n",
        "  if img.mode == 'RGB':                                 #If image is RGB type\n",
        "    img_array = np.array(img)\n",
        "    filename = \"image_array_rgb.txt\"\n",
        "\n",
        "  elif img.mode == 'L':                                 #If image is Grayscale type\n",
        "    img_array = np.array(img)\n",
        "    filename = \"image_array_greyscales.txt\"\n",
        "\n",
        "  else:\n",
        "    raise ValueError(\"Unsupported image mode: {}\".format(img.mode))\n",
        "\n",
        "  np.savetxt(filename, img_array.flatten(), fmt='%d')\n",
        "  print(f\"The image array has been saved to {filename}\")\n",
        "\n",
        "  img_to_array(\"path_to_your_image.jpg\")"
      ],
      "metadata": {
        "id": "OYv1AThnImGu"
      },
      "execution_count": null,
      "outputs": []
    }
  ]
}